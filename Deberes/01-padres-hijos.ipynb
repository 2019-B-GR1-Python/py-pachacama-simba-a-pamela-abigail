{
 "cells": [
  {
   "cell_type": "code",
   "execution_count": 112,
   "metadata": {},
   "outputs": [
    {
     "name": "stdout",
     "output_type": "stream",
     "text": [
      "Datos de la comida: \n",
      "Nombre: Tortilla\n",
      "precio: 7 usd\n",
      "calificacion: buena\n",
      "Numero de ingredientes: 0\n",
      "¿Esta expirado? False\n"
     ]
    }
   ],
   "source": [
    "class Comida:\n",
    "    comida_id = None\n",
    "    nombre = None\n",
    "    precio = None\n",
    "    calificacion = None\n",
    "    ingredientes = []\n",
    "    numero_ingredientes= len(ingredientes)\n",
    "    expirado = False\n",
    "      \n",
    "    def __init__(self, comida_id, nombre, precio, calificacion, expirado = False):\n",
    "        self.comida_id = comida_id\n",
    "        self.nombre = nombre\n",
    "        self.precio = precio\n",
    "        self.calificacion = calificacion\n",
    "        self.expirado = expirado\n",
    "        \n",
    "    def expirad_o(self):\n",
    "        if self.expirado:\n",
    "            return \"True\"\n",
    "        else:\n",
    "            return \"False\"\n",
    "        \n",
    "    def nuevo_ingrediente(self, nuevo_ingrediente):\n",
    "        self.ingredientes.append(nuevo_ingrediente)\n",
    "        self.numero_ingredientes = len(self.ingredientes)\n",
    "        return \"ingrediente registrado\"\n",
    "    \n",
    "    def __str__(self):\n",
    "        return (f\"Datos de la comida: \\nNombre: {self.nombre}\\n\" + f\"precio: {self.precio}\\n\" + f\"calificacion: {self.calificacion}\\n\" + \n",
    "                f\"Numero de ingredientes: {self.numero_ingredientes}\\n\" + f\"¿Esta expirado? {self.expirad_o()}\")\n",
    "\n",
    "comida_1 = Comida(1, \"Tortilla\", \"7 usd\", \"buena\")\n",
    "print(comida_1)\n",
    "\n",
    "        "
   ]
  },
  {
   "cell_type": "code",
   "execution_count": 115,
   "metadata": {},
   "outputs": [
    {
     "name": "stdout",
     "output_type": "stream",
     "text": [
      "Datos del ingrediente: \n",
      "Nombre: Papas\n",
      "peso: 5 libras\n",
      "precio: 3,25 usd\n",
      "\n"
     ]
    }
   ],
   "source": [
    "class Ingredientes:\n",
    "    ingrediente_id = None\n",
    "    nombre = None\n",
    "    peso = None\n",
    "    precio = None\n",
    "    \n",
    "      \n",
    "    def __init__(self, ingrediente_id, nombre, peso, precio):\n",
    "        self.ingrediente_id = ingrediente_id\n",
    "        self.nombre = nombre\n",
    "        self.peso = peso\n",
    "        self.precio = precio\n",
    "        \n",
    "    \n",
    "    def __str__(self):\n",
    "        return (f\"Datos del ingrediente: \\nNombre: {self.nombre}\\n\" + f\"peso: {self.peso}\\n\" + f\"precio: {self.precio}\\n\") \n",
    "\n",
    "ingrediente_1 = Ingredientes(1, \"Papas\", \"5 libras\", \"3,25 usd\")\n",
    "print(ingrediente_1)"
   ]
  },
  {
   "cell_type": "code",
   "execution_count": 117,
   "metadata": {},
   "outputs": [
    {
     "data": {
      "text/plain": [
       "'ingrediente registrado'"
      ]
     },
     "execution_count": 117,
     "metadata": {},
     "output_type": "execute_result"
    }
   ],
   "source": [
    "comida_1.nuevo_ingrediente(ingrediente_1)"
   ]
  },
  {
   "cell_type": "code",
   "execution_count": 123,
   "metadata": {},
   "outputs": [],
   "source": [
    "def menu():\n",
    "    comida = [];\n",
    "    opcion = None\n",
    "    idActual = 1;\n",
    "    while(opcion != 0):\n",
    "        print(\"--------------------------------------------------\")\n",
    "        print(\"Comida\")\n",
    "        print(\"--------------------------------------------------\")\n",
    "        print(\"Opciones\")\n",
    "        print(\"1 - Crear nueva comida\")\n",
    "        print(\"2 - Listar ingredientes\")\n",
    "        print(\"0 - Salir\")\n",
    "        print(\"===========================\")\n",
    "        opcion = int(input(\"Digita un numero:\"))\n",
    "        print(\"===========================\")\n",
    "        if(opcion == 1):\n",
    "            nuevo = crear_comida(idActual)\n",
    "            comida.append(nuevo)\n",
    "            idActual = idActual + 1\n",
    "            print(\"Comida registrado con exito\")\n",
    "        elif(opcion == 2):\n",
    "            if(len(ingredientes) > 0):\n",
    "                for comida in ingredientes:\n",
    "                    print(comida)\n",
    "            else:\n",
    "                print(\"No hay ingredientes registrados\")\n",
    "                print(Ingredientes())\n",
    "        elif(opcion == 0):\n",
    "            print(\"Se cierra la gestion\")\n",
    "        else:\n",
    "            print(\"Opcion no valida\")\n",
    "            opcion = 0"
   ]
  },
  {
   "cell_type": "code",
   "execution_count": 124,
   "metadata": {},
   "outputs": [],
   "source": [
    "def crear_comida(id_actual):\n",
    "    print(\"Completa los siguientes campos:\")\n",
    "    nombre = input(\"Nombre:\")\n",
    "    precio = input(\"Precio:\")\n",
    "    calificacion = input(\"Calificacion:\")\n",
    "    nuevo_padre = Comida(id_actual,nombre,precio,calificacion)\n",
    "    return nuevo_padre"
   ]
  },
  {
   "cell_type": "code",
   "execution_count": 125,
   "metadata": {},
   "outputs": [
    {
     "name": "stdout",
     "output_type": "stream",
     "text": [
      "--------------------------------------------------\n",
      "Comida\n",
      "--------------------------------------------------\n",
      "Opciones\n",
      "1 - Crear nueva comida\n",
      "2 - Listar ingredientes\n",
      "0 - Salir\n",
      "===========================\n",
      "Digita un numero:2\n",
      "===========================\n"
     ]
    },
    {
     "ename": "NameError",
     "evalue": "name 'ingredientes' is not defined",
     "output_type": "error",
     "traceback": [
      "\u001b[1;31m---------------------------------------------------------------------------\u001b[0m",
      "\u001b[1;31mNameError\u001b[0m                                 Traceback (most recent call last)",
      "\u001b[1;32m<ipython-input-125-a554a8713acc>\u001b[0m in \u001b[0;36m<module>\u001b[1;34m\u001b[0m\n\u001b[1;32m----> 1\u001b[1;33m \u001b[0mmenu\u001b[0m\u001b[1;33m(\u001b[0m\u001b[1;33m)\u001b[0m\u001b[1;33m\u001b[0m\u001b[1;33m\u001b[0m\u001b[0m\n\u001b[0m",
      "\u001b[1;32m<ipython-input-123-0d9a1d223f00>\u001b[0m in \u001b[0;36mmenu\u001b[1;34m()\u001b[0m\n\u001b[0;32m     20\u001b[0m             \u001b[0mprint\u001b[0m\u001b[1;33m(\u001b[0m\u001b[1;34m\"Comida registrado con exito\"\u001b[0m\u001b[1;33m)\u001b[0m\u001b[1;33m\u001b[0m\u001b[1;33m\u001b[0m\u001b[0m\n\u001b[0;32m     21\u001b[0m         \u001b[1;32melif\u001b[0m\u001b[1;33m(\u001b[0m\u001b[0mopcion\u001b[0m \u001b[1;33m==\u001b[0m \u001b[1;36m2\u001b[0m\u001b[1;33m)\u001b[0m\u001b[1;33m:\u001b[0m\u001b[1;33m\u001b[0m\u001b[1;33m\u001b[0m\u001b[0m\n\u001b[1;32m---> 22\u001b[1;33m             \u001b[1;32mif\u001b[0m\u001b[1;33m(\u001b[0m\u001b[0mlen\u001b[0m\u001b[1;33m(\u001b[0m\u001b[0mingredientes\u001b[0m\u001b[1;33m)\u001b[0m \u001b[1;33m>\u001b[0m \u001b[1;36m0\u001b[0m\u001b[1;33m)\u001b[0m\u001b[1;33m:\u001b[0m\u001b[1;33m\u001b[0m\u001b[1;33m\u001b[0m\u001b[0m\n\u001b[0m\u001b[0;32m     23\u001b[0m                 \u001b[1;32mfor\u001b[0m \u001b[0mcomida\u001b[0m \u001b[1;32min\u001b[0m \u001b[0mingredientes\u001b[0m\u001b[1;33m:\u001b[0m\u001b[1;33m\u001b[0m\u001b[1;33m\u001b[0m\u001b[0m\n\u001b[0;32m     24\u001b[0m                     \u001b[0mprint\u001b[0m\u001b[1;33m(\u001b[0m\u001b[0mcomida\u001b[0m\u001b[1;33m)\u001b[0m\u001b[1;33m\u001b[0m\u001b[1;33m\u001b[0m\u001b[0m\n",
      "\u001b[1;31mNameError\u001b[0m: name 'ingredientes' is not defined"
     ]
    }
   ],
   "source": [
    "menu()"
   ]
  },
  {
   "cell_type": "code",
   "execution_count": null,
   "metadata": {},
   "outputs": [],
   "source": []
  }
 ],
 "metadata": {
  "kernelspec": {
   "display_name": "Python 3",
   "language": "python",
   "name": "python3"
  },
  "language_info": {
   "codemirror_mode": {
    "name": "ipython",
    "version": 3
   },
   "file_extension": ".py",
   "mimetype": "text/x-python",
   "name": "python",
   "nbconvert_exporter": "python",
   "pygments_lexer": "ipython3",
   "version": "3.7.3"
  }
 },
 "nbformat": 4,
 "nbformat_minor": 2
}
