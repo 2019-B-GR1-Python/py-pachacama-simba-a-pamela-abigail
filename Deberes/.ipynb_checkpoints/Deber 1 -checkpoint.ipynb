{
 "cells": [
  {
   "cell_type": "code",
   "execution_count": 24,
   "metadata": {},
   "outputs": [
    {
     "name": "stdout",
     "output_type": "stream",
     "text": [
      "Requirement already satisfied: docutils in c:\\users\\pamela\\anaconda3\\lib\\site-packages (0.14)\n",
      "Requirement already satisfied: pygments in c:\\users\\pamela\\anaconda3\\lib\\site-packages (2.4.2)\n",
      "Collecting pypiwin32\n",
      "  Downloading https://files.pythonhosted.org/packages/d0/1b/2f292bbd742e369a100c91faa0483172cd91a1a422a6692055ac920946c5/pypiwin32-223-py3-none-any.whl\n",
      "Collecting kivy.deps.sdl2\n",
      "  Downloading https://files.pythonhosted.org/packages/06/4e/fa407f76ead2660da51b73ed53336742919d046e45c2b6c295a672a78c11/kivy_deps.sdl2-0.1.22-cp37-cp37m-win_amd64.whl (2.5MB)\n",
      "Collecting kivy.deps.glew\n",
      "  Downloading https://files.pythonhosted.org/packages/9c/e9/9ff000646f0041187b260ae7e1392615b30f601373ab13080d49b264489d/kivy_deps.glew-0.1.12-cp37-cp37m-win_amd64.whl (115kB)\n",
      "Requirement already satisfied: pywin32>=223 in c:\\users\\pamela\\anaconda3\\lib\\site-packages (from pypiwin32) (223)\n",
      "Installing collected packages: pypiwin32, kivy.deps.sdl2, kivy.deps.glew\n",
      "Successfully installed kivy.deps.glew kivy.deps.sdl2 pypiwin32-223\n",
      "Note: you may need to restart the kernel to use updated packages.\n"
     ]
    }
   ],
   "source": [
    "pip install docutils pygments pypiwin32 kivy.deps.sdl2 kivy.deps.glew"
   ]
  },
  {
   "cell_type": "code",
   "execution_count": 16,
   "metadata": {},
   "outputs": [],
   "source": [
    "pip install kivy.deps.gstreamer"
   ]
  },
  {
   "cell_type": "code",
   "execution_count": 17,
   "metadata": {},
   "outputs": [],
   "source": [
    "pip install kivy"
   ]
  },
  {
   "cell_type": "code",
   "execution_count": 18,
   "metadata": {},
   "outputs": [
    {
     "ename": "SystemExit",
     "evalue": "1",
     "output_type": "error",
     "traceback": [
      "An exception has occurred, use %tb to see the full traceback.\n",
      "\u001b[1;31mSystemExit\u001b[0m\u001b[1;31m:\u001b[0m 1\n"
     ]
    }
   ],
   "source": [
    "from kivy.app import App \n",
    "from kivy.uix.label import Label \n",
    "class FirstKivy(App):\n",
    "    def build(self):\n",
    "        return Label(text=\"Hello Kivy!\")\n",
    "FirstKivy().run()"
   ]
  },
  {
   "cell_type": "code",
   "execution_count": null,
   "metadata": {},
   "outputs": [],
   "source": []
  }
 ],
 "metadata": {
  "kernelspec": {
   "display_name": "Python 3",
   "language": "python",
   "name": "python3"
  },
  "language_info": {
   "codemirror_mode": {
    "name": "ipython",
    "version": 3
   },
   "file_extension": ".py",
   "mimetype": "text/x-python",
   "name": "python",
   "nbconvert_exporter": "python",
   "pygments_lexer": "ipython3",
   "version": "3.7.3"
  }
 },
 "nbformat": 4,
 "nbformat_minor": 2
}
