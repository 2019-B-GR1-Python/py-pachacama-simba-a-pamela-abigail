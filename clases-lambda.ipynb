{
 "cells": [
  {
   "cell_type": "code",
   "execution_count": 1,
   "metadata": {},
   "outputs": [
    {
     "data": {
      "text/plain": [
       "4"
      ]
     },
     "execution_count": 1,
     "metadata": {},
     "output_type": "execute_result"
    }
   ],
   "source": [
    "def elevar_al_cuadrado(numero):\n",
    "    return numero*numero\n",
    "elevar_al_cuadrado(2)"
   ]
  },
  {
   "cell_type": "code",
   "execution_count": 2,
   "metadata": {},
   "outputs": [],
   "source": [
    "elevar_al_cuadrado_lambda = lambda x: x*x"
   ]
  },
  {
   "cell_type": "code",
   "execution_count": 3,
   "metadata": {},
   "outputs": [
    {
     "data": {
      "text/plain": [
       "4"
      ]
     },
     "execution_count": 3,
     "metadata": {},
     "output_type": "execute_result"
    }
   ],
   "source": [
    "elevar_al_cuadrado_lambda(2)"
   ]
  },
  {
   "cell_type": "code",
   "execution_count": 4,
   "metadata": {},
   "outputs": [],
   "source": [
    "imprimir = lambda mensaje: print(f\"Mensaje: {mensaje}\")"
   ]
  },
  {
   "cell_type": "code",
   "execution_count": 5,
   "metadata": {},
   "outputs": [
    {
     "name": "stdout",
     "output_type": "stream",
     "text": [
      "Mensaje: Pamela\n"
     ]
    }
   ],
   "source": [
    "imprimir(\"Pamela\")"
   ]
  },
  {
   "cell_type": "code",
   "execution_count": 6,
   "metadata": {},
   "outputs": [],
   "source": [
    "suma_dos_numero = lambda numero1, numero2: numero1 + numero2"
   ]
  },
  {
   "cell_type": "code",
   "execution_count": 8,
   "metadata": {},
   "outputs": [
    {
     "data": {
      "text/plain": [
       "3"
      ]
     },
     "execution_count": 8,
     "metadata": {},
     "output_type": "execute_result"
    }
   ],
   "source": [
    "suma_dos_numero(1,2)"
   ]
  },
  {
   "cell_type": "code",
   "execution_count": 9,
   "metadata": {},
   "outputs": [],
   "source": [
    "class Nada:\n",
    "    pass"
   ]
  },
  {
   "cell_type": "code",
   "execution_count": 11,
   "metadata": {},
   "outputs": [
    {
     "name": "stdout",
     "output_type": "stream",
     "text": [
      "<__main__.Nada object at 0x00000259A8B90550>\n",
      "<class '__main__.Nada'>\n"
     ]
    }
   ],
   "source": [
    "una_nada= Nada()\n",
    "print(una_nada)\n",
    "print(type(una_nada))"
   ]
  },
  {
   "cell_type": "code",
   "execution_count": 31,
   "metadata": {},
   "outputs": [
    {
     "name": "stdout",
     "output_type": "stream",
     "text": [
      "Empezo el constructor\n",
      "None\n",
      "amazul\n",
      "1\n",
      "Color: amazul\n",
      "Chasis: 1\n"
     ]
    }
   ],
   "source": [
    "class Auto:\n",
    "    color = None\n",
    "    __numero_chasis = 1\n",
    "    \n",
    "    \n",
    "    def __init__(self, color): #self = this\n",
    "        print(\"Empezo el constructor\")\n",
    "        print(self.color)\n",
    "        self.color = color\n",
    "        \n",
    "    def __str__(self):\n",
    "        return f\"Color: {self.color}\\nChasis: {self.__numero_chasis}\"\n",
    "    \n",
    "    def numero_chasis_impuesto(self):\n",
    "        return self.__calcular_impuesto()\n",
    "    \n",
    "    def __calcular_impuesto():\n",
    "        return 14 * self.Auto__numero_chasis\n",
    "\n",
    "nuevo_auto = Auto(\"amazul\")\n",
    "print(nuevo_auto.color)\n",
    "#print(nuevo_auto.__numero_chasis)\n",
    "print(nuevo_auto._Auto__numero_chasis)\n",
    "print(nuevo_auto)"
   ]
  },
  {
   "cell_type": "code",
   "execution_count": 27,
   "metadata": {},
   "outputs": [],
   "source": [
    "class BMW(Auto):\n",
    "    def __init__(self, color = \"Blanco\"):\n",
    "        print(\"Inicializando BMW\")\n",
    "        super().__init__(color)\n",
    "    "
   ]
  },
  {
   "cell_type": "code",
   "execution_count": 32,
   "metadata": {},
   "outputs": [
    {
     "name": "stdout",
     "output_type": "stream",
     "text": [
      "Inicializando BMW\n",
      "Empezo el constructor\n",
      "None\n",
      "Color: Blanco\n",
      "Chasis: 1\n"
     ]
    }
   ],
   "source": [
    "carrito = BMW()\n",
    "print(carrito)"
   ]
  },
  {
   "cell_type": "code",
   "execution_count": 33,
   "metadata": {},
   "outputs": [
    {
     "data": {
      "text/plain": [
       "3"
      ]
     },
     "execution_count": 33,
     "metadata": {},
     "output_type": "execute_result"
    }
   ],
   "source": [
    "#funciones dentro de funciones\n",
    "def calculadora(num_uno, num_dos, operacion = \"suma\"):\n",
    "    def suma():\n",
    "        return num_uno + num_dos\n",
    "    def resta():\n",
    "        return num_uno - num_dos\n",
    "    def opcion_seleccionada():\n",
    "        if(operacion == \"suma\"):\n",
    "            return suma()\n",
    "        else:\n",
    "            return resta()\n",
    "            \n",
    "    return opcion_seleccionada()\n",
    "calculadora(1,2)"
   ]
  },
  {
   "cell_type": "code",
   "execution_count": 40,
   "metadata": {},
   "outputs": [
    {
     "data": {
      "text/plain": [
       "0.5"
      ]
     },
     "execution_count": 40,
     "metadata": {},
     "output_type": "execute_result"
    }
   ],
   "source": [
    "#funciones dentro de funciones swich\n",
    "def calculadora(num_uno, num_dos, operacion = \"suma\"):\n",
    "    def suma():\n",
    "        return num_uno + num_dos\n",
    "    def resta():\n",
    "        return num_uno - num_dos\n",
    "    def multiplicacion():\n",
    "        return num_uno * num_dos\n",
    "    def division():\n",
    "        return num_uno / num_dos\n",
    "    def opcion_seleccionada():\n",
    "        \"\"\"\n",
    "        return {\n",
    "            'suma': suma(),\n",
    "            'resta': resta(),\n",
    "            'multiplicacion': multiplicacion(),\n",
    "            'division': division(),\n",
    "        }[operacion]\n",
    "        \"\"\"\n",
    "        opciones = {\n",
    "            'suma': suma(),\n",
    "            'resta': resta(),\n",
    "            'multiplicacion': multiplicacion(),\n",
    "            'division': division(),\n",
    "        }\n",
    "        return opciones[operacion]\n",
    "    \n",
    "    return opcion_seleccionada()\n",
    "calculadora(1,2,\"division\")"
   ]
  },
  {
   "cell_type": "code",
   "execution_count": 41,
   "metadata": {},
   "outputs": [
    {
     "name": "stdout",
     "output_type": "stream",
     "text": [
      "Dime tu edad5\n"
     ]
    },
    {
     "data": {
      "text/plain": [
       "'5'"
      ]
     },
     "execution_count": 41,
     "metadata": {},
     "output_type": "execute_result"
    }
   ],
   "source": [
    "input(\"Dime tu edad\")"
   ]
  },
  {
   "cell_type": "code",
   "execution_count": null,
   "metadata": {},
   "outputs": [],
   "source": []
  }
 ],
 "metadata": {
  "kernelspec": {
   "display_name": "Python 3",
   "language": "python",
   "name": "python3"
  },
  "language_info": {
   "codemirror_mode": {
    "name": "ipython",
    "version": 3
   },
   "file_extension": ".py",
   "mimetype": "text/x-python",
   "name": "python",
   "nbconvert_exporter": "python",
   "pygments_lexer": "ipython3",
   "version": "3.7.3"
  }
 },
 "nbformat": 4,
 "nbformat_minor": 2
}
