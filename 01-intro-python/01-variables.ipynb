{
 "cells": [
  {
   "cell_type": "code",
   "execution_count": 1,
   "metadata": {},
   "outputs": [
    {
     "name": "stdout",
     "output_type": "stream",
     "text": [
      "Hola mundo\n"
     ]
    }
   ],
   "source": [
    "print(\"Hola mundo\")"
   ]
  },
  {
   "cell_type": "code",
   "execution_count": 2,
   "metadata": {},
   "outputs": [
    {
     "name": "stdout",
     "output_type": "stream",
     "text": [
      "<class 'int'>\n",
      "<class 'float'>\n",
      "<class 'str'>\n",
      "<class 'str'>\n",
      "<class 'bool'>\n",
      "<class 'bool'>\n",
      "<class 'NoneType'>\n"
     ]
    }
   ],
   "source": [
    "## Variables primitivas\n",
    "entero = 3 \n",
    "decimal = 1.1\n",
    "nombre = \"Pamela\"\n",
    "segundo_nombre = 'Abigail'\n",
    "casado = False\n",
    "profesor = True\n",
    "hijos = None\n",
    "print(type(entero)) #int\n",
    "print(type(decimal)) #float\n",
    "print(type (nombre)) #str\n",
    "print(type(segundo_nombre)) #str\n",
    "print(type(casado)) #boolean\n",
    "print(type(profesor)) #boolean\n",
    "print(type(hijos)) #NoneType\n",
    "\n",
    "texto = \"\"\"asadasadsdadasdasdad\n",
    "asdasdad asdadas\n",
    "asdadsdasdadadasdadssd\n",
    "asdasdadasdasdasdasd\"\"\""
   ]
  },
  {
   "cell_type": "code",
   "execution_count": 4,
   "metadata": {},
   "outputs": [
    {
     "name": "stdout",
     "output_type": "stream",
     "text": [
      "1.1\n",
      "Pamela\n"
     ]
    }
   ],
   "source": [
    "print(entero)\n",
    "entero = decimal\n",
    "entero = hijos\n",
    "entero = casado\n",
    "entero = nombre\n",
    "print (entero)"
   ]
  },
  {
   "cell_type": "code",
   "execution_count": 14,
   "metadata": {},
   "outputs": [
    {
     "name": "stdout",
     "output_type": "stream",
     "text": [
      "<class 'tuple'>\n",
      "<class 'list'>\n",
      "<class 'dict'>\n",
      "Fasly\n",
      "Truty\n",
      "Fasly\n",
      "Truty\n",
      "Truty\n",
      "Fasly\n",
      "Truty\n",
      "Fasly\n",
      "Fasly\n",
      "Truty\n",
      "Fasly\n",
      "Truty\n",
      "Fasly\n",
      "Truty\n"
     ]
    }
   ],
   "source": [
    "#condicion (boolean)\n",
    "#Truty\n",
    "#Falsy\n",
    "tuplas = ()\n",
    "listas = []\n",
    "diccionarios = {}\n",
    "print(type(tuplas)) #tuple\n",
    "print(type(listas))  #list\n",
    "print(type(diccionarios)) #dict\n",
    "\n",
    "if(\"\"): #falsy\n",
    "    print(\"Truty\")\n",
    "else:\n",
    "    print(\"Fasly\")\n",
    "\n",
    "if(\"a\"): #truty\n",
    "    print(\"Truty\")\n",
    "else:\n",
    "    print(\"Fasly\")\n",
    "    \n",
    "if(0): #falsy\n",
    "    print(\"Truty\")\n",
    "else:\n",
    "    print(\"Fasly\")\n",
    "          \n",
    "if(-1): #truty\n",
    "    print(\"Truty\")\n",
    "else:\n",
    "    print(\"Fasly\")\n",
    "\n",
    "if(1): #falsy\n",
    "    print(\"Truty\")\n",
    "else:\n",
    "    print(\"Fasly\")\n",
    "\n",
    "if(0.00): #falsy\n",
    "    print(\"Truty\")\n",
    "else:\n",
    "    print(\"Fasly\")\n",
    "\n",
    "if(0.01): #truty\n",
    "    print(\"Truty\")\n",
    "else:\n",
    "    print(\"Fasly\")\n",
    "\n",
    "if(None): #falsy\n",
    "    print(\"Truty\")\n",
    "else:\n",
    "    print(\"Fasly\")\n",
    "\n",
    "if(()): #falsy\n",
    "    print(\"Truty\")\n",
    "else:\n",
    "    print(\"Fasly\")\n",
    "\n",
    "if((1,2)): #truty\n",
    "    print(\"Truty\")\n",
    "else:\n",
    "    print(\"Fasly\")\n",
    "\n",
    "if([]): #falsy\n",
    "    print(\"Truty\")\n",
    "else:\n",
    "    print(\"Fasly\")\n",
    "\n",
    "if([\"a\",\"b\"]): #truty\n",
    "    print(\"Truty\")\n",
    "else:\n",
    "    print(\"Fasly\")\n",
    "\n",
    "if({}): #falsy\n",
    "    print(\"Truty\")\n",
    "else:\n",
    "    print(\"Fasly\")\n",
    "    \n",
    "if({nombre: \"Pamela\"}): #truty\n",
    "    print(\"Truty\")\n",
    "else:\n",
    "    print(\"Fasly\")"
   ]
  },
  {
   "cell_type": "code",
   "execution_count": 15,
   "metadata": {},
   "outputs": [],
   "source": [
    "arreglo = [1, 2, 3, 4, 5, 6, 7, 8, 9, 10]"
   ]
  },
  {
   "cell_type": "code",
   "execution_count": 24,
   "metadata": {},
   "outputs": [
    {
     "data": {
      "text/plain": [
       "[1, 2, 3, 4, 5, 6, 7, 8, 9, 10]"
      ]
     },
     "execution_count": 24,
     "metadata": {},
     "output_type": "execute_result"
    }
   ],
   "source": [
    "arreglo[2:5] #Filtrar ( [2, 5[)\n",
    "arreglo[2:]\n",
    "arreglo[:7]\n",
    "arreglo[-1]\n",
    "arreglo[2:-1] #Filtrar ( [2, -1[)\n",
    "arreglo[-8:-1]\n",
    "arreglo[-9:]\n",
    "arreglo[:-2]\n",
    "arreglo[:]"
   ]
  },
  {
   "cell_type": "raw",
   "metadata": {},
   "source": []
  },
  {
   "cell_type": "code",
   "execution_count": 25,
   "metadata": {},
   "outputs": [
    {
     "name": "stdout",
     "output_type": "stream",
     "text": [
      "<class 'bool'>\n",
      "True\n"
     ]
    }
   ],
   "source": [
    "print(type(7 in arreglo))\n",
    "print (7 in arreglo)"
   ]
  },
  {
   "cell_type": "code",
   "execution_count": 26,
   "metadata": {},
   "outputs": [
    {
     "data": {
      "text/plain": [
       "10"
      ]
     },
     "execution_count": 26,
     "metadata": {},
     "output_type": "execute_result"
    }
   ],
   "source": [
    "len(arreglo)"
   ]
  },
  {
   "cell_type": "code",
   "execution_count": 27,
   "metadata": {},
   "outputs": [
    {
     "data": {
      "text/plain": [
       "[1, 2, 3, 4, 5, 6, 7, 8, 9, 10, 11]"
      ]
     },
     "execution_count": 27,
     "metadata": {},
     "output_type": "execute_result"
    }
   ],
   "source": [
    "arreglo.append(11)\n",
    "arreglo"
   ]
  },
  {
   "cell_type": "code",
   "execution_count": 28,
   "metadata": {},
   "outputs": [
    {
     "data": {
      "text/plain": [
       "11"
      ]
     },
     "execution_count": 28,
     "metadata": {},
     "output_type": "execute_result"
    }
   ],
   "source": [
    "arreglo.pop()"
   ]
  },
  {
   "cell_type": "code",
   "execution_count": 33,
   "metadata": {},
   "outputs": [
    {
     "data": {
      "text/plain": [
       "[1, 1.1, 1.1, 1.1, 2, 3, 4, 5, 6, 7, 8, 9, 10]"
      ]
     },
     "execution_count": 33,
     "metadata": {},
     "output_type": "execute_result"
    }
   ],
   "source": [
    "arreglo.insert(1, 1.1)\n",
    "arreglo\n"
   ]
  },
  {
   "cell_type": "code",
   "execution_count": 35,
   "metadata": {},
   "outputs": [
    {
     "name": "stdout",
     "output_type": "stream",
     "text": [
      "1\n",
      "1.1\n",
      "1.1\n",
      "1.1\n",
      "2\n",
      "3\n",
      "4\n",
      "5\n",
      "6\n",
      "7\n",
      "8\n",
      "9\n",
      "10\n",
      "0\n",
      "1\n",
      "2\n",
      "3\n",
      "4\n",
      "5\n",
      "6\n",
      "7\n",
      "8\n",
      "9\n"
     ]
    }
   ],
   "source": [
    "for numero in arreglo:\n",
    "    print(numero)\n",
    "contador = 0\n",
    "while contador < 10:\n",
    "    print(contador)\n",
    "    contador+= 1"
   ]
  },
  {
   "cell_type": "code",
   "execution_count": 36,
   "metadata": {},
   "outputs": [
    {
     "data": {
      "text/plain": [
       "(1, 2, 3, 4, 5)"
      ]
     },
     "execution_count": 36,
     "metadata": {},
     "output_type": "execute_result"
    }
   ],
   "source": [
    "tupla_numeros =(1,2,3,4,5)\n",
    "tupla_numeros"
   ]
  },
  {
   "cell_type": "code",
   "execution_count": 37,
   "metadata": {},
   "outputs": [
    {
     "data": {
      "text/plain": [
       "True"
      ]
     },
     "execution_count": 37,
     "metadata": {},
     "output_type": "execute_result"
    }
   ],
   "source": [
    "tupla_numeros[0:3]\n",
    "len(tupla_numeros)\n",
    "3 in tupla_numeros"
   ]
  },
  {
   "cell_type": "code",
   "execution_count": 48,
   "metadata": {},
   "outputs": [
    {
     "data": {
      "text/plain": [
       "{'Pamela': 'Pamela',\n",
       " 'apellido': 'Pachacama',\n",
       " 'edad': 30,\n",
       " 'sueldo': 1.1,\n",
       " None: None,\n",
       " False: False,\n",
       " 'mascotas': [{'Pamela': 'cachetes'}]}"
      ]
     },
     "execution_count": 48,
     "metadata": {},
     "output_type": "execute_result"
    }
   ],
   "source": [
    "pamela = {\n",
    "    nombre: \"Pamela\",\n",
    "    \"apellido\": 'Pachacama',\n",
    "    'edad': 30,\n",
    "    \"sueldo\": 1.1,\n",
    "    hijos: None,\n",
    "    casado: False,\n",
    "    \"mascotas\": [ {nombre: \"cachetes\"} ],\n",
    "}\n",
    "pamela"
   ]
  },
  {
   "cell_type": "code",
   "execution_count": 54,
   "metadata": {},
   "outputs": [
    {
     "data": {
      "text/plain": [
       "True"
      ]
     },
     "execution_count": 54,
     "metadata": {},
     "output_type": "execute_result"
    }
   ],
   "source": [
    "pamela[\"apellido\"] = \"Gonzales\"\n",
    "pamela[\"apellido\"]\n",
    "pamela[\"mascotas\"][0][nombre]\n",
    "pamela.keys()\n",
    "pamela.values()\n",
    "\"apellido\" in pamela.values()\n",
    "\"apellido\" in pamela.keys()"
   ]
  },
  {
   "cell_type": "code",
   "execution_count": 55,
   "metadata": {},
   "outputs": [
    {
     "data": {
      "text/plain": [
       "False"
      ]
     },
     "execution_count": 55,
     "metadata": {},
     "output_type": "execute_result"
    }
   ],
   "source": [
    "1 == 1 or 2 == 3 #True\n",
    "1 == 1 and 2 == 3 #False"
   ]
  },
  {
   "cell_type": "code",
   "execution_count": null,
   "metadata": {},
   "outputs": [],
   "source": []
  }
 ],
 "metadata": {
  "kernelspec": {
   "display_name": "Python 3",
   "language": "python",
   "name": "python3"
  },
  "language_info": {
   "codemirror_mode": {
    "name": "ipython",
    "version": 3
   },
   "file_extension": ".py",
   "mimetype": "text/x-python",
   "name": "python",
   "nbconvert_exporter": "python",
   "pygments_lexer": "ipython3",
   "version": "3.7.4"
  }
 },
 "nbformat": 4,
 "nbformat_minor": 2
}
