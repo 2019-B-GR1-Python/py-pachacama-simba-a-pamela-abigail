{
 "cells": [
  {
   "cell_type": "code",
   "execution_count": 2,
   "metadata": {},
   "outputs": [
    {
     "name": "stdout",
     "output_type": "stream",
     "text": [
      "Hola Pamela\n"
     ]
    },
    {
     "data": {
      "text/plain": [
       "NoneType"
      ]
     },
     "execution_count": 2,
     "metadata": {},
     "output_type": "execute_result"
    }
   ],
   "source": [
    "#Funciones\n",
    "def hola_mundo(): #None\n",
    "    print(\"Hola Pamela\")\n",
    "type(hola_mundo())"
   ]
  },
  {
   "cell_type": "code",
   "execution_count": 5,
   "metadata": {},
   "outputs": [
    {
     "name": "stdout",
     "output_type": "stream",
     "text": [
      "suma 3\n"
     ]
    }
   ],
   "source": [
    "def sumar_dos_numeros(num_uno, num_dos):\n",
    "    return num_uno + num_dos\n",
    "suma = sumar_dos_numeros(1,2)\n",
    "print(f\"suma {suma}\")#templade String"
   ]
  },
  {
   "cell_type": "code",
   "execution_count": 8,
   "metadata": {},
   "outputs": [
    {
     "name": "stdout",
     "output_type": "stream",
     "text": [
      "EPN\n",
      "ESPE\n"
     ]
    }
   ],
   "source": [
    "def imprimir_universidad(nombre = 'EPN'):\n",
    "    print(f\"{nombre}\")\n",
    "imprimir_universidad()\n",
    "imprimir_universidad(\"ESPE\")"
   ]
  },
  {
   "cell_type": "code",
   "execution_count": 13,
   "metadata": {},
   "outputs": [
    {
     "name": "stdout",
     "output_type": "stream",
     "text": [
      "Color: Negro\n",
      "Placa: abc-123\n",
      "HP: 2000\n",
      "Año: 1970\n",
      "Color: Amazul\n",
      "Placa: def-456\n",
      "HP: 3500\n",
      "Año: 2005\n",
      "Color: Cafe\n",
      "Placa: mns-543\n",
      "HP: 1650\n",
      "Año: 1993\n"
     ]
    }
   ],
   "source": [
    "def imprimir_carro(color, placa, hp, anio = 1993):\n",
    "    print(f\"Color: {color}\")\n",
    "    print(f\"Placa: {placa}\")\n",
    "    print(f\"HP: {hp}\")\n",
    "    print(f\"Año: {anio}\")\n",
    "imprimir_carro(\"Negro\",\"abc-123\",2000,1970)\n",
    "imprimir_carro(anio = 2005,\n",
    "              color ='Amazul',\n",
    "              placa = \"def-456\",\n",
    "              hp = 3500)\n",
    "#Named Parameters\n",
    "#cafe-> parametro por posicion \n",
    "imprimir_carro(\"Cafe\",\"mns-543\",hp=1650)\n",
    "#Reglas\n",
    "#1) parametros requeridos 1ero, luego los opcionales\n",
    "#2) Enviar siempre parametros requeridos\n",
    "#3) Si ya se envia un parametro nombrado, \n",
    "#   los paraetros que falten de enviarse van a tener \n",
    "#   que ser nombrados"
   ]
  },
  {
   "cell_type": "code",
   "execution_count": 27,
   "metadata": {},
   "outputs": [
    {
     "data": {
      "text/plain": [
       "3"
      ]
     },
     "execution_count": 27,
     "metadata": {},
     "output_type": "execute_result"
    }
   ],
   "source": [
    "#parametros infinitos\n",
    "def sumar_numeros ( primer_numero, *numeros):\n",
    "    \n",
    "    longitud = len(numeros)\n",
    "    if(longitud == 0):\n",
    "        return primer_numero\n",
    "    else:\n",
    "        suma = 0 + primer_numero\n",
    "        for numero in numeros:\n",
    "           suma = suma + numero\n",
    "        return suma\n",
    "sumar_numeros(1,2)\n",
    "    "
   ]
  },
  {
   "cell_type": "code",
   "execution_count": 32,
   "metadata": {},
   "outputs": [
    {
     "name": "stdout",
     "output_type": "stream",
     "text": [
      "<class 'dict'>\n",
      "{'tiempo_esperado': 10, 'procesador': 43, 'marca': 'intel'}\n"
     ]
    }
   ],
   "source": [
    "def imprimir_configuracion (nombre, valor = 10, **key_word_arguments):\n",
    "    print(type(key_word_arguments))\n",
    "    print(key_word_arguments)\n",
    "imprimir_configuracion(nombre=\"config_1\", valor=20, tiempo_esperado = 10, procesador=43 , marca =\"intel\" )\n",
    "#key_word_arguments-> son valores no definidos (kwargs)"
   ]
  },
  {
   "cell_type": "code",
   "execution_count": null,
   "metadata": {},
   "outputs": [],
   "source": []
  }
 ],
 "metadata": {
  "kernelspec": {
   "display_name": "Python 3",
   "language": "python",
   "name": "python3"
  },
  "language_info": {
   "codemirror_mode": {
    "name": "ipython",
    "version": 3
   },
   "file_extension": ".py",
   "mimetype": "text/x-python",
   "name": "python",
   "nbconvert_exporter": "python",
   "pygments_lexer": "ipython3",
   "version": "3.7.3"
  }
 },
 "nbformat": 4,
 "nbformat_minor": 2
}
